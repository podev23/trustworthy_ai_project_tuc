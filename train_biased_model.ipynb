{
 "cells": [
  {
   "cell_type": "code",
   "execution_count": 2,
   "metadata": {},
   "outputs": [],
   "source": [
    "import tensorflow as tf"
   ]
  },
  {
   "cell_type": "code",
   "execution_count": 3,
   "metadata": {},
   "outputs": [
    {
     "name": "stdout",
     "output_type": "stream",
     "text": [
      "Found 3297 files belonging to 2 classes.\n",
      "Class Names: ['benign', 'malignant']\n",
      "Epoch 1/10\n",
      "72/72 [==============================] - 20s 247ms/step - loss: 0.6767 - accuracy: 0.6658 - val_loss: 0.5750 - val_accuracy: 0.7031\n",
      "Epoch 2/10\n",
      "72/72 [==============================] - 17s 237ms/step - loss: 0.4911 - accuracy: 0.7543 - val_loss: 0.4168 - val_accuracy: 0.8031\n",
      "Epoch 3/10\n",
      "72/72 [==============================] - 17s 233ms/step - loss: 0.4377 - accuracy: 0.7782 - val_loss: 0.3876 - val_accuracy: 0.7953\n",
      "Epoch 4/10\n",
      "72/72 [==============================] - 17s 239ms/step - loss: 0.4147 - accuracy: 0.8012 - val_loss: 0.4063 - val_accuracy: 0.7906\n",
      "Epoch 5/10\n",
      "72/72 [==============================] - 18s 245ms/step - loss: 0.3919 - accuracy: 0.8116 - val_loss: 0.3891 - val_accuracy: 0.8016\n",
      "Epoch 6/10\n",
      "72/72 [==============================] - 18s 255ms/step - loss: 0.3806 - accuracy: 0.8129 - val_loss: 0.3827 - val_accuracy: 0.8016\n",
      "Epoch 7/10\n",
      "72/72 [==============================] - 16s 228ms/step - loss: 0.3476 - accuracy: 0.8234 - val_loss: 0.3758 - val_accuracy: 0.8016\n",
      "Epoch 8/10\n",
      "72/72 [==============================] - 16s 227ms/step - loss: 0.3378 - accuracy: 0.8346 - val_loss: 0.3615 - val_accuracy: 0.8141\n",
      "Epoch 9/10\n",
      "72/72 [==============================] - 17s 233ms/step - loss: 0.3383 - accuracy: 0.8364 - val_loss: 0.3649 - val_accuracy: 0.8156\n",
      "Epoch 10/10\n",
      "72/72 [==============================] - 16s 229ms/step - loss: 0.3281 - accuracy: 0.8398 - val_loss: 0.3979 - val_accuracy: 0.8125\n",
      "12/12 [==============================] - 1s 51ms/step - loss: 0.3790 - accuracy: 0.8499\n",
      "Test Accuracy: 0.8498583436012268\n"
     ]
    },
    {
     "name": "stderr",
     "output_type": "stream",
     "text": [
      "c:\\Users\\Fabia\\.virtualenvs\\backend-KvJJLMcj\\lib\\site-packages\\keras\\src\\engine\\training.py:3000: UserWarning: You are saving your model as an HDF5 file via `model.save()`. This file format is considered legacy. We recommend using instead the native Keras format, e.g. `model.save('my_model.keras')`.\n",
      "  saving_api.save_model(\n"
     ]
    }
   ],
   "source": [
    "\n",
    "# Path to dataset\n",
    "\n",
    "dataset_path =r\"C:\\Users\\Fabia\\Desktop\\data\"  # Change to relative path without leading backslash\n",
    "\n",
    "# Parameters\n",
    "batch_size = 32\n",
    "img_size = (150, 150)\n",
    "seed = 123\n",
    "\n",
    "# Load the dataset\n",
    "dataset = tf.keras.utils.image_dataset_from_directory(\n",
    "dataset_path,\n",
    "image_size=img_size,\n",
    "batch_size=batch_size,\n",
    "shuffle=True,\n",
    "seed=seed\n",
    ")\n",
    "class_names = dataset.class_names\n",
    "print(\"Class Names:\", class_names)\n",
    "# Get dataset size and split proportions\n",
    "dataset_size = len(dataset)\n",
    "train_size = int(0.7 * dataset_size)\n",
    "val_size = int(0.2 * dataset_size)\n",
    "\n",
    "# Split the dataset\n",
    "train_dataset = dataset.take(train_size)\n",
    "remaining = dataset.skip(train_size)\n",
    "val_dataset = remaining.take(val_size)\n",
    "test_dataset = remaining.skip(val_size)\n",
    "\n",
    "# Preprocess (Normalize to [0, 1])\n",
    "AUTOTUNE = tf.data.AUTOTUNE\n",
    "\n",
    "def preprocess(image, label):\n",
    "    image = tf.cast(image, tf.float32) / 255.0\n",
    "    return image, label\n",
    "\n",
    "train_dataset = train_dataset.map(preprocess).cache().shuffle(1000).prefetch(buffer_size=AUTOTUNE)\n",
    "val_dataset = val_dataset.map(preprocess).cache().prefetch(buffer_size=AUTOTUNE)\n",
    "test_dataset = test_dataset.map(preprocess).cache().prefetch(buffer_size=AUTOTUNE)\n",
    "\n",
    "# Model architecture\n",
    "model = tf.keras.Sequential([\n",
    "tf.keras.layers.Conv2D(32, (3, 3), activation='relu', input_shape=img_size + (3,)),\n",
    "tf.keras.layers.MaxPooling2D((2, 2)),\n",
    "tf.keras.layers.Conv2D(64, (3, 3), activation='relu'),\n",
    "tf.keras.layers.MaxPooling2D((2, 2)),\n",
    "tf.keras.layers.Conv2D(128, (3, 3), activation='relu'),\n",
    "tf.keras.layers.MaxPooling2D((2, 2)),\n",
    "tf.keras.layers.Flatten(),\n",
    "tf.keras.layers.Dense(128, activation='relu'),\n",
    "tf.keras.layers.Dense(1, activation='sigmoid') # Binary classification\n",
    "])\n",
    "\n",
    "# Compile the model\n",
    "model.compile(optimizer='adam',\n",
    "loss='binary_crossentropy',\n",
    "metrics=['accuracy'])\n",
    "\n",
    "# Train the model\n",
    "history = model.fit(\n",
    "train_dataset,\n",
    "epochs=10,\n",
    "validation_data=val_dataset\n",
    ")\n",
    "\n",
    "# Evaluate the model\n",
    "loss, accuracy = model.evaluate(test_dataset)\n",
    "print(f\"Test Accuracy: {accuracy}\")\n",
    "\n",
    "\n",
    "\n",
    "model.save(\"biased_model.h5\")"
   ]
  },
  {
   "cell_type": "code",
   "execution_count": null,
   "metadata": {},
   "outputs": [],
   "source": []
  }
 ],
 "metadata": {
  "kernelspec": {
   "display_name": "backend-KvJJLMcj",
   "language": "python",
   "name": "python3"
  },
  "language_info": {
   "codemirror_mode": {
    "name": "ipython",
    "version": 3
   },
   "file_extension": ".py",
   "mimetype": "text/x-python",
   "name": "python",
   "nbconvert_exporter": "python",
   "pygments_lexer": "ipython3",
   "version": "3.10.11"
  }
 },
 "nbformat": 4,
 "nbformat_minor": 2
}
